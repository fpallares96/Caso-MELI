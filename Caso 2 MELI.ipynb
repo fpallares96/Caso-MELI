{
 "cells": [
  {
   "cell_type": "markdown",
   "metadata": {},
   "source": [
    "Importamos librerias necesarias"
   ]
  },
  {
   "cell_type": "code",
   "execution_count": 1,
   "metadata": {},
   "outputs": [],
   "source": [
    "import pandas as pd"
   ]
  },
  {
   "cell_type": "code",
   "execution_count": 2,
   "metadata": {},
   "outputs": [],
   "source": [
    "df = pd.read_csv(r'C:\\\\Users\\\\fpallares\\Documents\\\\Test tecnico\\\\Teste Técnico - DS_\\\\items_titles_test.csv') #Cargamos el dataset"
   ]
  },
  {
   "cell_type": "code",
   "execution_count": 3,
   "metadata": {},
   "outputs": [
    {
     "data": {
      "text/html": [
       "<div>\n",
       "<style scoped>\n",
       "    .dataframe tbody tr th:only-of-type {\n",
       "        vertical-align: middle;\n",
       "    }\n",
       "\n",
       "    .dataframe tbody tr th {\n",
       "        vertical-align: top;\n",
       "    }\n",
       "\n",
       "    .dataframe thead th {\n",
       "        text-align: right;\n",
       "    }\n",
       "</style>\n",
       "<table border=\"1\" class=\"dataframe\">\n",
       "  <thead>\n",
       "    <tr style=\"text-align: right;\">\n",
       "      <th></th>\n",
       "      <th>ITE_ITEM_TITLE</th>\n",
       "    </tr>\n",
       "  </thead>\n",
       "  <tbody>\n",
       "    <tr>\n",
       "      <th>0</th>\n",
       "      <td>Tênis Olympikus Esporte Valente - Masculino Kids</td>\n",
       "    </tr>\n",
       "    <tr>\n",
       "      <th>1</th>\n",
       "      <td>Bicicleta Barra Forte Samy C/ 6 Marchas Cubo C...</td>\n",
       "    </tr>\n",
       "    <tr>\n",
       "      <th>2</th>\n",
       "      <td>Tênis Usthemp Slip-on Temático - Labrador 2</td>\n",
       "    </tr>\n",
       "    <tr>\n",
       "      <th>3</th>\n",
       "      <td>Tênis Casual Feminino Moleca Tecido Tie Dye</td>\n",
       "    </tr>\n",
       "    <tr>\n",
       "      <th>4</th>\n",
       "      <td>Tênis Star Baby Sapatinho Conforto + Brinde</td>\n",
       "    </tr>\n",
       "    <tr>\n",
       "      <th>...</th>\n",
       "      <td>...</td>\n",
       "    </tr>\n",
       "    <tr>\n",
       "      <th>9995</th>\n",
       "      <td>Chuteira Futsal Oxn Velox 3 Infantil</td>\n",
       "    </tr>\n",
       "    <tr>\n",
       "      <th>9996</th>\n",
       "      <td>Sapatenis Casual Masculino Estiloso 24horas Co...</td>\n",
       "    </tr>\n",
       "    <tr>\n",
       "      <th>9997</th>\n",
       "      <td>Tênis Feminino Infantil Molekinha Tie Dye</td>\n",
       "    </tr>\n",
       "    <tr>\n",
       "      <th>9998</th>\n",
       "      <td>Tênis Feminino Leve Barato Ganhe 1 Colchonete ...</td>\n",
       "    </tr>\n",
       "    <tr>\n",
       "      <th>9999</th>\n",
       "      <td>Tênis Polo Ralph Lauren Modelo Cantor Low Bran...</td>\n",
       "    </tr>\n",
       "  </tbody>\n",
       "</table>\n",
       "<p>10000 rows × 1 columns</p>\n",
       "</div>"
      ],
      "text/plain": [
       "                                         ITE_ITEM_TITLE\n",
       "0      Tênis Olympikus Esporte Valente - Masculino Kids\n",
       "1     Bicicleta Barra Forte Samy C/ 6 Marchas Cubo C...\n",
       "2          Tênis Usthemp Slip-on Temático - Labrador 2\n",
       "3           Tênis Casual Feminino Moleca Tecido Tie Dye\n",
       "4           Tênis Star Baby Sapatinho Conforto + Brinde\n",
       "...                                                 ...\n",
       "9995               Chuteira Futsal Oxn Velox 3 Infantil\n",
       "9996  Sapatenis Casual Masculino Estiloso 24horas Co...\n",
       "9997          Tênis Feminino Infantil Molekinha Tie Dye\n",
       "9998  Tênis Feminino Leve Barato Ganhe 1 Colchonete ...\n",
       "9999  Tênis Polo Ralph Lauren Modelo Cantor Low Bran...\n",
       "\n",
       "[10000 rows x 1 columns]"
      ]
     },
     "execution_count": 3,
     "metadata": {},
     "output_type": "execute_result"
    }
   ],
   "source": [
    "df"
   ]
  },
  {
   "cell_type": "markdown",
   "metadata": {},
   "source": [
    "Importamos librerias para manipulacion de textos"
   ]
  },
  {
   "cell_type": "code",
   "execution_count": 4,
   "metadata": {},
   "outputs": [],
   "source": [
    "from sklearn.feature_extraction.text import TfidfVectorizer\n",
    "from sklearn.metrics.pairwise import cosine_similarity\n",
    "import plotly.express as px\n",
    "import re\n",
    "from nltk.corpus import stopwords\n",
    "from nltk.tokenize import word_tokenize"
   ]
  },
  {
   "cell_type": "code",
   "execution_count": 5,
   "metadata": {},
   "outputs": [],
   "source": [
    "from sklearn.feature_extraction.text import CountVectorizer\n",
    "\n",
    "#Definimos una funcion para ver las top words que mas se repiten\n",
    "\n",
    "def get_top_n_words(corpus, n=10):\n",
    "    cv = CountVectorizer() # Agregar StopWords\n",
    "    corpus_matrix = cv.fit_transform(corpus)\n",
    "    corpus_matrix = pd.DataFrame.sparse.from_spmatrix(corpus_matrix, columns=cv.get_feature_names_out())\n",
    "    aux = corpus_matrix.sum()\n",
    "    aux=aux.to_frame('count')\n",
    "    aux.sort_values(by='count',ascending=False,inplace=True)\n",
    "    aux=aux.head(n)\n",
    "    return aux\n"
   ]
  },
  {
   "cell_type": "code",
   "execution_count": 6,
   "metadata": {},
   "outputs": [
    {
     "name": "stdout",
     "output_type": "stream",
     "text": [
      "           count\n",
      "tênis       5750\n",
      "feminino    2618\n",
      "masculino   1867\n",
      "tenis       1783\n",
      "casual      1234\n",
      "infantil    1170\n",
      "preto       1123\n",
      "original     880\n",
      "bicicleta    745\n",
      "de           583\n"
     ]
    },
    {
     "data": {
      "application/vnd.plotly.v1+json": {
       "config": {
        "plotlyServerURL": "https://plot.ly"
       },
       "data": [
        {
         "alignmentgroup": "True",
         "hovertemplate": "index=%{x}<br>count=%{y}<extra></extra>",
         "legendgroup": "",
         "marker": {
          "color": "#636efa",
          "pattern": {
           "shape": ""
          }
         },
         "name": "",
         "offsetgroup": "",
         "orientation": "v",
         "showlegend": false,
         "textposition": "auto",
         "type": "bar",
         "x": [
          "tênis",
          "feminino",
          "masculino",
          "tenis",
          "casual",
          "infantil",
          "preto",
          "original",
          "bicicleta",
          "de",
          "branco",
          "sapatênis",
          "couro",
          "aro",
          "olympikus",
          "slip",
          "com",
          "on",
          "promoção",
          "sapatenis",
          "kit",
          "academia",
          "caminhada",
          "azul",
          "sapatilha",
          "confortável",
          "leve",
          "rosa",
          "29",
          "corrida",
          "usthemp",
          "esportivo",
          "em",
          "conforto",
          "cano",
          "bike",
          "plataforma",
          "lançamento",
          "para",
          "tv",
          "led",
          "marinho",
          "pares",
          "menina",
          "cadarço",
          "star",
          "mtb",
          "alto",
          "barato",
          "mizuno",
          "menino",
          "nike",
          "vermelho",
          "meia",
          "sapato",
          "adidas",
          "black",
          "chunky",
          "cinza",
          "sola",
          "fila",
          "envio",
          "moleca",
          "unissex",
          "tico",
          "temá",
          "gel",
          "via",
          "macio",
          "asics",
          "kolosh",
          "all",
          "sneaker",
          "flatform",
          "calce",
          "26",
          "20",
          "oferta",
          "shimano",
          "brinde",
          "feminina",
          "super",
          "dia",
          "marte",
          "verde",
          "botinha",
          "new",
          "sem",
          "skate",
          "polo",
          "tam",
          "fácil",
          "disco",
          "wave",
          "vizzano",
          "top",
          "tamanho",
          "ref",
          "frete",
          "12",
          "freio",
          "ciclismo",
          "rio",
          "shoes",
          "molekinha",
          "moda",
          "21",
          "beira",
          "ultra",
          "confort",
          "nf",
          "sapatos",
          "alta",
          "bota",
          "air",
          "bibi",
          "preta",
          "novo",
          "pegada",
          "elástico",
          "marrom",
          "smart",
          "actvitta",
          "cor",
          "pro",
          "pink",
          "iate",
          "2021",
          "puma",
          "confortavel",
          "napa",
          "hocks",
          "lona",
          "21v",
          "grátis",
          "imediato",
          "treino",
          "klin",
          "balance",
          "dg",
          "entrega",
          "white",
          "kidy",
          "coca",
          "ramarim",
          "luz",
          "cola",
          "sport",
          "estilo",
          "molekinho",
          "kids",
          "caloi",
          "polegadas",
          "100",
          "legítimo",
          "baby",
          "modare",
          "adulto",
          "camurça",
          "lg",
          "dourado",
          "skechers",
          "running",
          "pronta",
          "fitness",
          "armour",
          "under",
          "da",
          "cores",
          "street",
          "ii",
          "pampili",
          "velcro",
          "baixo",
          "16",
          "speed",
          "relógio",
          "10",
          "nude",
          "samsung",
          "absolute",
          "esporte",
          "40",
          "ao",
          "bege",
          "bikes",
          "one",
          "amarelo",
          "mule",
          "marchas",
          "solado",
          "jogging",
          "nathor",
          "oakley",
          "knit",
          "19",
          "meninas",
          "carteira",
          "dc",
          "jeans",
          "escolar",
          "zíper",
          "converse",
          "laranja",
          "palmilha",
          "juvenil",
          "tie",
          "tecido",
          "chinelo",
          "37",
          "mountain",
          "modelo",
          "prophecy",
          "flex",
          "do",
          "low",
          "adventure",
          "dye",
          "facil",
          "capricho",
          "4k",
          "43",
          "art",
          "qix",
          "24",
          "39",
          "36",
          "glitter",
          "blogueira",
          "atacado",
          "prata",
          "volare",
          "preço",
          "22",
          "max",
          "off",
          "masculina",
          "calçado",
          "charged",
          "tendência",
          "nova",
          "jordan",
          "retrô",
          "fem",
          "everlast",
          "old",
          "passeio",
          "canvas",
          "32",
          "neoprene",
          "na",
          "ous",
          "alumínio",
          "38",
          "42",
          "vegano",
          "17",
          "classic",
          "dakota",
          "pedal",
          "médio",
          "combo",
          "legend",
          "friday",
          "nobuck",
          "cross",
          "melhor",
          "onça",
          "rainha",
          "18",
          "tela",
          "freios",
          "colorido",
          "retro",
          "urbano",
          "specialized",
          "flat",
          "trilha",
          "liso",
          "fly",
          "lycra",
          "24v",
          "ferracini",
          "taylor",
          "27v",
          "criança",
          "anos",
          "usado",
          "linha",
          "sneakers",
          "tratorado",
          "esportivos",
          "41",
          "35",
          "hidráulico",
          "estampa",
          "moderno",
          "bolsa",
          "branca",
          "masc",
          "lite",
          "porto",
          "now",
          "nota",
          "dropp",
          "carbon",
          "crossfit",
          "anabela",
          "27",
          "full",
          "easy",
          "grafite",
          "nfe",
          "bebê",
          "quadro",
          "2020",
          "já",
          "joy",
          "ultraleve",
          "br",
          "united",
          "run",
          "trava",
          "luzinha",
          "go",
          "plus",
          "chuck",
          "roxo",
          "15",
          "mid",
          "walk",
          "hd",
          "estiloso",
          "salto",
          "urban",
          "futsal",
          "pto",
          "jogger",
          "usaflex",
          "skatista",
          "giro",
          "colors",
          "escola",
          "50",
          "rose",
          "marca",
          "calçados",
          "court",
          "chumbo",
          "democrata",
          "v2",
          "torricella",
          "gratis",
          "café",
          "pé",
          "cinto",
          "homem",
          "relogio",
          "12v",
          "long",
          "mississipi",
          "force",
          "elastico",
          "redley",
          "energy",
          "runner",
          "bull",
          "short",
          "especial",
          "fiscal",
          "animal",
          "west",
          "meninos",
          "24h",
          "legitimo",
          "pisca",
          "masculinos",
          "way",
          "sorrento",
          "racer",
          "melissa",
          "freeday",
          "vinho",
          "print",
          "34",
          "soft",
          "osklen",
          "essencial",
          "respirável",
          "reserva",
          "sense",
          "roller",
          "coast",
          "vintage",
          "colcci",
          "beach",
          "road",
          "blue",
          "vermelha",
          "move",
          "lindo",
          "freeway",
          "free",
          "premium",
          "ziper",
          "antiderrapante",
          "mulher",
          "creation",
          "promoçao",
          "11",
          "originals",
          "malha",
          "cesta",
          "65",
          "02",
          "esportes",
          "dunk",
          "aranha",
          "farm",
          "brilho",
          "grande",
          "dubuy",
          "tem",
          "caramelo",
          "chuteira",
          "patrulha",
          "resistente",
          "14",
          "caterpillar",
          "ranster",
          "ortopédico",
          "personagem",
          "canina",
          "light",
          "carbono",
          "fit",
          "vans",
          "terrier",
          "red",
          "ouro",
          "smash",
          "importado",
          "school",
          "laço",
          "tsw",
          "prime",
          "detalhe",
          "basquete",
          "sb",
          "câmbios",
          "space",
          "caixa",
          "digital",
          "quiz",
          "suspensão",
          "básico",
          "novopé",
          "femininos",
          "gold",
          "santa",
          "scott",
          "pesca",
          "verniz",
          "sl",
          "101",
          "action",
          "bordo",
          "ultraconforto",
          "iii",
          "like",
          "hidraulico",
          "par",
          "30",
          "training",
          "mad",
          "lolla",
          "nylon",
          "verão",
          "sh",
          "rosê",
          "103",
          "spice",
          "adrun",
          "44",
          "jolie",
          "lcd",
          "bdp",
          "clash",
          "la",
          "18v",
          "petite",
          "peças",
          "48",
          "summer",
          "nero",
          "bordado",
          "slipon",
          "day",
          "lynd",
          "jet"
         ],
         "xaxis": "x",
         "y": [
          5750,
          2618,
          1867,
          1783,
          1234,
          1170,
          1123,
          880,
          745,
          583,
          577,
          555,
          526,
          514,
          490,
          475,
          468,
          443,
          392,
          372,
          372,
          358,
          339,
          327,
          315,
          305,
          303,
          287,
          281,
          274,
          268,
          260,
          259,
          246,
          246,
          243,
          231,
          226,
          223,
          216,
          214,
          212,
          205,
          200,
          194,
          194,
          186,
          180,
          177,
          174,
          174,
          166,
          166,
          163,
          161,
          160,
          159,
          158,
          151,
          149,
          149,
          149,
          148,
          147,
          146,
          146,
          143,
          139,
          137,
          137,
          137,
          136,
          136,
          135,
          135,
          133,
          131,
          130,
          129,
          125,
          124,
          122,
          122,
          121,
          119,
          119,
          119,
          114,
          113,
          112,
          112,
          108,
          107,
          107,
          105,
          104,
          103,
          103,
          103,
          102,
          102,
          102,
          99,
          98,
          97,
          97,
          96,
          95,
          94,
          94,
          93,
          91,
          89,
          89,
          88,
          88,
          86,
          86,
          85,
          85,
          84,
          84,
          83,
          82,
          80,
          79,
          78,
          77,
          75,
          74,
          74,
          74,
          74,
          74,
          73,
          72,
          72,
          72,
          70,
          69,
          68,
          67,
          67,
          67,
          66,
          65,
          65,
          65,
          64,
          64,
          64,
          64,
          64,
          64,
          64,
          64,
          64,
          64,
          63,
          62,
          62,
          61,
          60,
          60,
          60,
          59,
          59,
          58,
          58,
          58,
          58,
          57,
          57,
          56,
          56,
          56,
          56,
          55,
          53,
          53,
          53,
          52,
          52,
          52,
          52,
          51,
          51,
          51,
          50,
          50,
          50,
          49,
          49,
          48,
          48,
          48,
          48,
          48,
          48,
          48,
          48,
          48,
          47,
          47,
          47,
          46,
          46,
          46,
          45,
          45,
          45,
          45,
          44,
          44,
          44,
          44,
          43,
          43,
          42,
          42,
          42,
          42,
          41,
          41,
          41,
          41,
          40,
          40,
          39,
          39,
          38,
          38,
          38,
          38,
          38,
          38,
          37,
          37,
          37,
          37,
          37,
          37,
          37,
          37,
          37,
          37,
          37,
          36,
          36,
          36,
          36,
          36,
          36,
          36,
          36,
          36,
          36,
          35,
          35,
          35,
          35,
          35,
          35,
          35,
          35,
          35,
          35,
          34,
          34,
          34,
          34,
          34,
          34,
          33,
          33,
          33,
          33,
          33,
          33,
          33,
          33,
          33,
          33,
          33,
          33,
          33,
          32,
          32,
          32,
          32,
          32,
          32,
          32,
          32,
          32,
          32,
          32,
          31,
          31,
          31,
          31,
          31,
          31,
          31,
          31,
          31,
          31,
          30,
          30,
          30,
          30,
          30,
          30,
          30,
          30,
          30,
          30,
          30,
          30,
          30,
          29,
          29,
          29,
          29,
          29,
          29,
          29,
          29,
          29,
          28,
          28,
          28,
          28,
          28,
          28,
          28,
          28,
          28,
          28,
          27,
          27,
          27,
          27,
          27,
          27,
          27,
          26,
          26,
          26,
          26,
          26,
          26,
          26,
          25,
          25,
          25,
          25,
          25,
          25,
          25,
          25,
          25,
          25,
          24,
          24,
          24,
          24,
          24,
          24,
          24,
          24,
          24,
          24,
          24,
          24,
          24,
          23,
          23,
          23,
          23,
          23,
          23,
          23,
          23,
          23,
          23,
          23,
          23,
          23,
          23,
          22,
          22,
          22,
          22,
          22,
          22,
          22,
          22,
          22,
          22,
          22,
          22,
          22,
          22,
          22,
          22,
          22,
          21,
          21,
          21,
          21,
          21,
          21,
          21,
          21,
          21,
          21,
          21,
          21,
          21,
          21,
          21,
          21,
          21,
          21,
          21,
          20,
          20,
          20,
          20,
          20,
          20,
          20,
          20,
          20,
          20,
          20,
          20,
          20,
          20,
          20,
          20,
          20,
          20,
          20,
          20,
          20,
          20,
          20,
          20,
          20,
          20,
          19,
          19,
          19,
          19,
          19,
          19,
          19,
          19,
          19,
          19,
          19,
          19,
          19,
          18,
          18,
          18,
          18,
          18,
          18,
          18,
          18,
          18,
          18,
          18,
          18,
          18,
          18,
          18,
          18,
          18,
          18,
          18,
          18,
          18,
          17,
          17,
          17,
          17,
          17,
          17,
          17,
          17,
          17,
          17,
          17,
          17,
          17,
          17
         ],
         "yaxis": "y"
        }
       ],
       "layout": {
        "barmode": "relative",
        "legend": {
         "tracegroupgap": 0
        },
        "margin": {
         "t": 60
        },
        "template": {
         "data": {
          "bar": [
           {
            "error_x": {
             "color": "#2a3f5f"
            },
            "error_y": {
             "color": "#2a3f5f"
            },
            "marker": {
             "line": {
              "color": "#E5ECF6",
              "width": 0.5
             },
             "pattern": {
              "fillmode": "overlay",
              "size": 10,
              "solidity": 0.2
             }
            },
            "type": "bar"
           }
          ],
          "barpolar": [
           {
            "marker": {
             "line": {
              "color": "#E5ECF6",
              "width": 0.5
             },
             "pattern": {
              "fillmode": "overlay",
              "size": 10,
              "solidity": 0.2
             }
            },
            "type": "barpolar"
           }
          ],
          "carpet": [
           {
            "aaxis": {
             "endlinecolor": "#2a3f5f",
             "gridcolor": "white",
             "linecolor": "white",
             "minorgridcolor": "white",
             "startlinecolor": "#2a3f5f"
            },
            "baxis": {
             "endlinecolor": "#2a3f5f",
             "gridcolor": "white",
             "linecolor": "white",
             "minorgridcolor": "white",
             "startlinecolor": "#2a3f5f"
            },
            "type": "carpet"
           }
          ],
          "choropleth": [
           {
            "colorbar": {
             "outlinewidth": 0,
             "ticks": ""
            },
            "type": "choropleth"
           }
          ],
          "contour": [
           {
            "colorbar": {
             "outlinewidth": 0,
             "ticks": ""
            },
            "colorscale": [
             [
              0,
              "#0d0887"
             ],
             [
              0.1111111111111111,
              "#46039f"
             ],
             [
              0.2222222222222222,
              "#7201a8"
             ],
             [
              0.3333333333333333,
              "#9c179e"
             ],
             [
              0.4444444444444444,
              "#bd3786"
             ],
             [
              0.5555555555555556,
              "#d8576b"
             ],
             [
              0.6666666666666666,
              "#ed7953"
             ],
             [
              0.7777777777777778,
              "#fb9f3a"
             ],
             [
              0.8888888888888888,
              "#fdca26"
             ],
             [
              1,
              "#f0f921"
             ]
            ],
            "type": "contour"
           }
          ],
          "contourcarpet": [
           {
            "colorbar": {
             "outlinewidth": 0,
             "ticks": ""
            },
            "type": "contourcarpet"
           }
          ],
          "heatmap": [
           {
            "colorbar": {
             "outlinewidth": 0,
             "ticks": ""
            },
            "colorscale": [
             [
              0,
              "#0d0887"
             ],
             [
              0.1111111111111111,
              "#46039f"
             ],
             [
              0.2222222222222222,
              "#7201a8"
             ],
             [
              0.3333333333333333,
              "#9c179e"
             ],
             [
              0.4444444444444444,
              "#bd3786"
             ],
             [
              0.5555555555555556,
              "#d8576b"
             ],
             [
              0.6666666666666666,
              "#ed7953"
             ],
             [
              0.7777777777777778,
              "#fb9f3a"
             ],
             [
              0.8888888888888888,
              "#fdca26"
             ],
             [
              1,
              "#f0f921"
             ]
            ],
            "type": "heatmap"
           }
          ],
          "heatmapgl": [
           {
            "colorbar": {
             "outlinewidth": 0,
             "ticks": ""
            },
            "colorscale": [
             [
              0,
              "#0d0887"
             ],
             [
              0.1111111111111111,
              "#46039f"
             ],
             [
              0.2222222222222222,
              "#7201a8"
             ],
             [
              0.3333333333333333,
              "#9c179e"
             ],
             [
              0.4444444444444444,
              "#bd3786"
             ],
             [
              0.5555555555555556,
              "#d8576b"
             ],
             [
              0.6666666666666666,
              "#ed7953"
             ],
             [
              0.7777777777777778,
              "#fb9f3a"
             ],
             [
              0.8888888888888888,
              "#fdca26"
             ],
             [
              1,
              "#f0f921"
             ]
            ],
            "type": "heatmapgl"
           }
          ],
          "histogram": [
           {
            "marker": {
             "pattern": {
              "fillmode": "overlay",
              "size": 10,
              "solidity": 0.2
             }
            },
            "type": "histogram"
           }
          ],
          "histogram2d": [
           {
            "colorbar": {
             "outlinewidth": 0,
             "ticks": ""
            },
            "colorscale": [
             [
              0,
              "#0d0887"
             ],
             [
              0.1111111111111111,
              "#46039f"
             ],
             [
              0.2222222222222222,
              "#7201a8"
             ],
             [
              0.3333333333333333,
              "#9c179e"
             ],
             [
              0.4444444444444444,
              "#bd3786"
             ],
             [
              0.5555555555555556,
              "#d8576b"
             ],
             [
              0.6666666666666666,
              "#ed7953"
             ],
             [
              0.7777777777777778,
              "#fb9f3a"
             ],
             [
              0.8888888888888888,
              "#fdca26"
             ],
             [
              1,
              "#f0f921"
             ]
            ],
            "type": "histogram2d"
           }
          ],
          "histogram2dcontour": [
           {
            "colorbar": {
             "outlinewidth": 0,
             "ticks": ""
            },
            "colorscale": [
             [
              0,
              "#0d0887"
             ],
             [
              0.1111111111111111,
              "#46039f"
             ],
             [
              0.2222222222222222,
              "#7201a8"
             ],
             [
              0.3333333333333333,
              "#9c179e"
             ],
             [
              0.4444444444444444,
              "#bd3786"
             ],
             [
              0.5555555555555556,
              "#d8576b"
             ],
             [
              0.6666666666666666,
              "#ed7953"
             ],
             [
              0.7777777777777778,
              "#fb9f3a"
             ],
             [
              0.8888888888888888,
              "#fdca26"
             ],
             [
              1,
              "#f0f921"
             ]
            ],
            "type": "histogram2dcontour"
           }
          ],
          "mesh3d": [
           {
            "colorbar": {
             "outlinewidth": 0,
             "ticks": ""
            },
            "type": "mesh3d"
           }
          ],
          "parcoords": [
           {
            "line": {
             "colorbar": {
              "outlinewidth": 0,
              "ticks": ""
             }
            },
            "type": "parcoords"
           }
          ],
          "pie": [
           {
            "automargin": true,
            "type": "pie"
           }
          ],
          "scatter": [
           {
            "fillpattern": {
             "fillmode": "overlay",
             "size": 10,
             "solidity": 0.2
            },
            "type": "scatter"
           }
          ],
          "scatter3d": [
           {
            "line": {
             "colorbar": {
              "outlinewidth": 0,
              "ticks": ""
             }
            },
            "marker": {
             "colorbar": {
              "outlinewidth": 0,
              "ticks": ""
             }
            },
            "type": "scatter3d"
           }
          ],
          "scattercarpet": [
           {
            "marker": {
             "colorbar": {
              "outlinewidth": 0,
              "ticks": ""
             }
            },
            "type": "scattercarpet"
           }
          ],
          "scattergeo": [
           {
            "marker": {
             "colorbar": {
              "outlinewidth": 0,
              "ticks": ""
             }
            },
            "type": "scattergeo"
           }
          ],
          "scattergl": [
           {
            "marker": {
             "colorbar": {
              "outlinewidth": 0,
              "ticks": ""
             }
            },
            "type": "scattergl"
           }
          ],
          "scattermapbox": [
           {
            "marker": {
             "colorbar": {
              "outlinewidth": 0,
              "ticks": ""
             }
            },
            "type": "scattermapbox"
           }
          ],
          "scatterpolar": [
           {
            "marker": {
             "colorbar": {
              "outlinewidth": 0,
              "ticks": ""
             }
            },
            "type": "scatterpolar"
           }
          ],
          "scatterpolargl": [
           {
            "marker": {
             "colorbar": {
              "outlinewidth": 0,
              "ticks": ""
             }
            },
            "type": "scatterpolargl"
           }
          ],
          "scatterternary": [
           {
            "marker": {
             "colorbar": {
              "outlinewidth": 0,
              "ticks": ""
             }
            },
            "type": "scatterternary"
           }
          ],
          "surface": [
           {
            "colorbar": {
             "outlinewidth": 0,
             "ticks": ""
            },
            "colorscale": [
             [
              0,
              "#0d0887"
             ],
             [
              0.1111111111111111,
              "#46039f"
             ],
             [
              0.2222222222222222,
              "#7201a8"
             ],
             [
              0.3333333333333333,
              "#9c179e"
             ],
             [
              0.4444444444444444,
              "#bd3786"
             ],
             [
              0.5555555555555556,
              "#d8576b"
             ],
             [
              0.6666666666666666,
              "#ed7953"
             ],
             [
              0.7777777777777778,
              "#fb9f3a"
             ],
             [
              0.8888888888888888,
              "#fdca26"
             ],
             [
              1,
              "#f0f921"
             ]
            ],
            "type": "surface"
           }
          ],
          "table": [
           {
            "cells": {
             "fill": {
              "color": "#EBF0F8"
             },
             "line": {
              "color": "white"
             }
            },
            "header": {
             "fill": {
              "color": "#C8D4E3"
             },
             "line": {
              "color": "white"
             }
            },
            "type": "table"
           }
          ]
         },
         "layout": {
          "annotationdefaults": {
           "arrowcolor": "#2a3f5f",
           "arrowhead": 0,
           "arrowwidth": 1
          },
          "autotypenumbers": "strict",
          "coloraxis": {
           "colorbar": {
            "outlinewidth": 0,
            "ticks": ""
           }
          },
          "colorscale": {
           "diverging": [
            [
             0,
             "#8e0152"
            ],
            [
             0.1,
             "#c51b7d"
            ],
            [
             0.2,
             "#de77ae"
            ],
            [
             0.3,
             "#f1b6da"
            ],
            [
             0.4,
             "#fde0ef"
            ],
            [
             0.5,
             "#f7f7f7"
            ],
            [
             0.6,
             "#e6f5d0"
            ],
            [
             0.7,
             "#b8e186"
            ],
            [
             0.8,
             "#7fbc41"
            ],
            [
             0.9,
             "#4d9221"
            ],
            [
             1,
             "#276419"
            ]
           ],
           "sequential": [
            [
             0,
             "#0d0887"
            ],
            [
             0.1111111111111111,
             "#46039f"
            ],
            [
             0.2222222222222222,
             "#7201a8"
            ],
            [
             0.3333333333333333,
             "#9c179e"
            ],
            [
             0.4444444444444444,
             "#bd3786"
            ],
            [
             0.5555555555555556,
             "#d8576b"
            ],
            [
             0.6666666666666666,
             "#ed7953"
            ],
            [
             0.7777777777777778,
             "#fb9f3a"
            ],
            [
             0.8888888888888888,
             "#fdca26"
            ],
            [
             1,
             "#f0f921"
            ]
           ],
           "sequentialminus": [
            [
             0,
             "#0d0887"
            ],
            [
             0.1111111111111111,
             "#46039f"
            ],
            [
             0.2222222222222222,
             "#7201a8"
            ],
            [
             0.3333333333333333,
             "#9c179e"
            ],
            [
             0.4444444444444444,
             "#bd3786"
            ],
            [
             0.5555555555555556,
             "#d8576b"
            ],
            [
             0.6666666666666666,
             "#ed7953"
            ],
            [
             0.7777777777777778,
             "#fb9f3a"
            ],
            [
             0.8888888888888888,
             "#fdca26"
            ],
            [
             1,
             "#f0f921"
            ]
           ]
          },
          "colorway": [
           "#636efa",
           "#EF553B",
           "#00cc96",
           "#ab63fa",
           "#FFA15A",
           "#19d3f3",
           "#FF6692",
           "#B6E880",
           "#FF97FF",
           "#FECB52"
          ],
          "font": {
           "color": "#2a3f5f"
          },
          "geo": {
           "bgcolor": "white",
           "lakecolor": "white",
           "landcolor": "#E5ECF6",
           "showlakes": true,
           "showland": true,
           "subunitcolor": "white"
          },
          "hoverlabel": {
           "align": "left"
          },
          "hovermode": "closest",
          "mapbox": {
           "style": "light"
          },
          "paper_bgcolor": "white",
          "plot_bgcolor": "#E5ECF6",
          "polar": {
           "angularaxis": {
            "gridcolor": "white",
            "linecolor": "white",
            "ticks": ""
           },
           "bgcolor": "#E5ECF6",
           "radialaxis": {
            "gridcolor": "white",
            "linecolor": "white",
            "ticks": ""
           }
          },
          "scene": {
           "xaxis": {
            "backgroundcolor": "#E5ECF6",
            "gridcolor": "white",
            "gridwidth": 2,
            "linecolor": "white",
            "showbackground": true,
            "ticks": "",
            "zerolinecolor": "white"
           },
           "yaxis": {
            "backgroundcolor": "#E5ECF6",
            "gridcolor": "white",
            "gridwidth": 2,
            "linecolor": "white",
            "showbackground": true,
            "ticks": "",
            "zerolinecolor": "white"
           },
           "zaxis": {
            "backgroundcolor": "#E5ECF6",
            "gridcolor": "white",
            "gridwidth": 2,
            "linecolor": "white",
            "showbackground": true,
            "ticks": "",
            "zerolinecolor": "white"
           }
          },
          "shapedefaults": {
           "line": {
            "color": "#2a3f5f"
           }
          },
          "ternary": {
           "aaxis": {
            "gridcolor": "white",
            "linecolor": "white",
            "ticks": ""
           },
           "baxis": {
            "gridcolor": "white",
            "linecolor": "white",
            "ticks": ""
           },
           "bgcolor": "#E5ECF6",
           "caxis": {
            "gridcolor": "white",
            "linecolor": "white",
            "ticks": ""
           }
          },
          "title": {
           "x": 0.05
          },
          "xaxis": {
           "automargin": true,
           "gridcolor": "white",
           "linecolor": "white",
           "ticks": "",
           "title": {
            "standoff": 15
           },
           "zerolinecolor": "white",
           "zerolinewidth": 2
          },
          "yaxis": {
           "automargin": true,
           "gridcolor": "white",
           "linecolor": "white",
           "ticks": "",
           "title": {
            "standoff": 15
           },
           "zerolinecolor": "white",
           "zerolinewidth": 2
          }
         }
        },
        "xaxis": {
         "anchor": "y",
         "domain": [
          0,
          1
         ],
         "title": {
          "text": "index"
         }
        },
        "yaxis": {
         "anchor": "x",
         "domain": [
          0,
          1
         ],
         "title": {
          "text": "count"
         }
        }
       }
      }
     },
     "metadata": {},
     "output_type": "display_data"
    }
   ],
   "source": [
    "#Vemos la cantidad de tokens en todo el corpus\n",
    "most_importants = get_top_n_words(df[\"ITE_ITEM_TITLE\"], n=500)\n",
    "print(most_importants.head(10))\n",
    "px.bar(most_importants, x=most_importants.index, y='count')\n",
    "#Vemos que tenemos una gran cantidad de tokens asociados a tenis o zapatillas"
   ]
  },
  {
   "cell_type": "code",
   "execution_count": 7,
   "metadata": {},
   "outputs": [
    {
     "name": "stderr",
     "output_type": "stream",
     "text": [
      "[nltk_data] Error loading punkt: <urlopen error [Errno 11001]\n",
      "[nltk_data]     getaddrinfo failed>\n",
      "[nltk_data] Error loading stopwords: <urlopen error [Errno 11001]\n",
      "[nltk_data]     getaddrinfo failed>\n"
     ]
    },
    {
     "data": {
      "text/plain": [
       "False"
      ]
     },
     "execution_count": 7,
     "metadata": {},
     "output_type": "execute_result"
    }
   ],
   "source": [
    "import nltk\n",
    "nltk.download('punkt')\n",
    "nltk.download('stopwords')"
   ]
  },
  {
   "cell_type": "code",
   "execution_count": 8,
   "metadata": {},
   "outputs": [],
   "source": [
    "# Aca definimos un patron para limpiar posibles caracteres irrelugares\n",
    "non_word_pattern = r\"``|''|[^A-Za-z0-9]+\""
   ]
  },
  {
   "cell_type": "code",
   "execution_count": 9,
   "metadata": {},
   "outputs": [],
   "source": [
    "# Tokenizamos y hacemos el lowecase del texto\n",
    "df[\"cleaned_text\"] = df[\"ITE_ITEM_TITLE\"].apply(lambda text: word_tokenize(text.lower()))\n",
    "stop_words = set(stopwords.words(\"portuguese\"))\n",
    "df[\"cleaned_text\"] = df[\"cleaned_text\"].apply(lambda tokens: [word for word in tokens if word not in stop_words])"
   ]
  },
  {
   "cell_type": "code",
   "execution_count": 10,
   "metadata": {},
   "outputs": [
    {
     "data": {
      "text/html": [
       "<div>\n",
       "<style scoped>\n",
       "    .dataframe tbody tr th:only-of-type {\n",
       "        vertical-align: middle;\n",
       "    }\n",
       "\n",
       "    .dataframe tbody tr th {\n",
       "        vertical-align: top;\n",
       "    }\n",
       "\n",
       "    .dataframe thead th {\n",
       "        text-align: right;\n",
       "    }\n",
       "</style>\n",
       "<table border=\"1\" class=\"dataframe\">\n",
       "  <thead>\n",
       "    <tr style=\"text-align: right;\">\n",
       "      <th></th>\n",
       "      <th>ITE_ITEM_TITLE</th>\n",
       "      <th>cleaned_text</th>\n",
       "    </tr>\n",
       "  </thead>\n",
       "  <tbody>\n",
       "    <tr>\n",
       "      <th>0</th>\n",
       "      <td>Tênis Olympikus Esporte Valente - Masculino Kids</td>\n",
       "      <td>[tênis, olympikus, esporte, valente, -, mascul...</td>\n",
       "    </tr>\n",
       "    <tr>\n",
       "      <th>1</th>\n",
       "      <td>Bicicleta Barra Forte Samy C/ 6 Marchas Cubo C...</td>\n",
       "      <td>[bicicleta, barra, forte, samy, c/, 6, marchas...</td>\n",
       "    </tr>\n",
       "    <tr>\n",
       "      <th>2</th>\n",
       "      <td>Tênis Usthemp Slip-on Temático - Labrador 2</td>\n",
       "      <td>[tênis, usthemp, slip-on, temático, -, labrad...</td>\n",
       "    </tr>\n",
       "    <tr>\n",
       "      <th>3</th>\n",
       "      <td>Tênis Casual Feminino Moleca Tecido Tie Dye</td>\n",
       "      <td>[tênis, casual, feminino, moleca, tecido, tie,...</td>\n",
       "    </tr>\n",
       "    <tr>\n",
       "      <th>4</th>\n",
       "      <td>Tênis Star Baby Sapatinho Conforto + Brinde</td>\n",
       "      <td>[tênis, star, baby, sapatinho, conforto, +, br...</td>\n",
       "    </tr>\n",
       "    <tr>\n",
       "      <th>...</th>\n",
       "      <td>...</td>\n",
       "      <td>...</td>\n",
       "    </tr>\n",
       "    <tr>\n",
       "      <th>9995</th>\n",
       "      <td>Chuteira Futsal Oxn Velox 3 Infantil</td>\n",
       "      <td>[chuteira, futsal, oxn, velox, 3, infantil]</td>\n",
       "    </tr>\n",
       "    <tr>\n",
       "      <th>9996</th>\n",
       "      <td>Sapatenis Casual Masculino Estiloso 24horas Co...</td>\n",
       "      <td>[sapatenis, casual, masculino, estiloso, 24hor...</td>\n",
       "    </tr>\n",
       "    <tr>\n",
       "      <th>9997</th>\n",
       "      <td>Tênis Feminino Infantil Molekinha Tie Dye</td>\n",
       "      <td>[tênis, feminino, infantil, molekinha, tie, dye]</td>\n",
       "    </tr>\n",
       "    <tr>\n",
       "      <th>9998</th>\n",
       "      <td>Tênis Feminino Leve Barato Ganhe 1 Colchonete ...</td>\n",
       "      <td>[tênis, feminino, leve, barato, ganhe, 1, colc...</td>\n",
       "    </tr>\n",
       "    <tr>\n",
       "      <th>9999</th>\n",
       "      <td>Tênis Polo Ralph Lauren Modelo Cantor Low Bran...</td>\n",
       "      <td>[tênis, polo, ralph, lauren, modelo, cantor, l...</td>\n",
       "    </tr>\n",
       "  </tbody>\n",
       "</table>\n",
       "<p>10000 rows × 2 columns</p>\n",
       "</div>"
      ],
      "text/plain": [
       "                                         ITE_ITEM_TITLE  \\\n",
       "0      Tênis Olympikus Esporte Valente - Masculino Kids   \n",
       "1     Bicicleta Barra Forte Samy C/ 6 Marchas Cubo C...   \n",
       "2          Tênis Usthemp Slip-on Temático - Labrador 2   \n",
       "3           Tênis Casual Feminino Moleca Tecido Tie Dye   \n",
       "4           Tênis Star Baby Sapatinho Conforto + Brinde   \n",
       "...                                                 ...   \n",
       "9995               Chuteira Futsal Oxn Velox 3 Infantil   \n",
       "9996  Sapatenis Casual Masculino Estiloso 24horas Co...   \n",
       "9997          Tênis Feminino Infantil Molekinha Tie Dye   \n",
       "9998  Tênis Feminino Leve Barato Ganhe 1 Colchonete ...   \n",
       "9999  Tênis Polo Ralph Lauren Modelo Cantor Low Bran...   \n",
       "\n",
       "                                           cleaned_text  \n",
       "0     [tênis, olympikus, esporte, valente, -, mascul...  \n",
       "1     [bicicleta, barra, forte, samy, c/, 6, marchas...  \n",
       "2     [tênis, usthemp, slip-on, temático, -, labrad...  \n",
       "3     [tênis, casual, feminino, moleca, tecido, tie,...  \n",
       "4     [tênis, star, baby, sapatinho, conforto, +, br...  \n",
       "...                                                 ...  \n",
       "9995        [chuteira, futsal, oxn, velox, 3, infantil]  \n",
       "9996  [sapatenis, casual, masculino, estiloso, 24hor...  \n",
       "9997   [tênis, feminino, infantil, molekinha, tie, dye]  \n",
       "9998  [tênis, feminino, leve, barato, ganhe, 1, colc...  \n",
       "9999  [tênis, polo, ralph, lauren, modelo, cantor, l...  \n",
       "\n",
       "[10000 rows x 2 columns]"
      ]
     },
     "execution_count": 10,
     "metadata": {},
     "output_type": "execute_result"
    }
   ],
   "source": [
    "df"
   ]
  },
  {
   "cell_type": "code",
   "execution_count": 11,
   "metadata": {},
   "outputs": [],
   "source": [
    "df[\"cleaned_text\"] = df[\"cleaned_text\"].apply(lambda tokens: [word for word in tokens if not re.match(non_word_pattern, str(word))])"
   ]
  },
  {
   "cell_type": "code",
   "execution_count": 12,
   "metadata": {},
   "outputs": [
    {
     "name": "stderr",
     "output_type": "stream",
     "text": [
      "[nltk_data] Error loading wordnet: <urlopen error [Errno 11001]\n",
      "[nltk_data]     getaddrinfo failed>\n"
     ]
    },
    {
     "data": {
      "text/plain": [
       "False"
      ]
     },
     "execution_count": 12,
     "metadata": {},
     "output_type": "execute_result"
    }
   ],
   "source": [
    "from nltk.stem.wordnet import WordNetLemmatizer\n",
    "nltk.download('wordnet')"
   ]
  },
  {
   "cell_type": "code",
   "execution_count": 13,
   "metadata": {},
   "outputs": [],
   "source": [
    "# Aplicamos lemmatizacion\n",
    "lemmatizer = WordNetLemmatizer()\n",
    "df[\"cleaned_text\"] = df[\"cleaned_text\"].apply(lambda tokens: [lemmatizer.lemmatize(word) for word in tokens])"
   ]
  },
  {
   "cell_type": "code",
   "execution_count": 14,
   "metadata": {},
   "outputs": [
    {
     "data": {
      "text/html": [
       "<div>\n",
       "<style scoped>\n",
       "    .dataframe tbody tr th:only-of-type {\n",
       "        vertical-align: middle;\n",
       "    }\n",
       "\n",
       "    .dataframe tbody tr th {\n",
       "        vertical-align: top;\n",
       "    }\n",
       "\n",
       "    .dataframe thead th {\n",
       "        text-align: right;\n",
       "    }\n",
       "</style>\n",
       "<table border=\"1\" class=\"dataframe\">\n",
       "  <thead>\n",
       "    <tr style=\"text-align: right;\">\n",
       "      <th></th>\n",
       "      <th>ITE_ITEM_TITLE</th>\n",
       "      <th>cleaned_text</th>\n",
       "    </tr>\n",
       "  </thead>\n",
       "  <tbody>\n",
       "    <tr>\n",
       "      <th>0</th>\n",
       "      <td>Tênis Olympikus Esporte Valente - Masculino Kids</td>\n",
       "      <td>[tênis, olympikus, esporte, valente, masculino...</td>\n",
       "    </tr>\n",
       "    <tr>\n",
       "      <th>1</th>\n",
       "      <td>Bicicleta Barra Forte Samy C/ 6 Marchas Cubo C...</td>\n",
       "      <td>[bicicleta, barra, forte, samy, c/, 6, marchas...</td>\n",
       "    </tr>\n",
       "    <tr>\n",
       "      <th>2</th>\n",
       "      <td>Tênis Usthemp Slip-on Temático - Labrador 2</td>\n",
       "      <td>[tênis, usthemp, slip-on, temático, labrador, 2]</td>\n",
       "    </tr>\n",
       "    <tr>\n",
       "      <th>3</th>\n",
       "      <td>Tênis Casual Feminino Moleca Tecido Tie Dye</td>\n",
       "      <td>[tênis, casual, feminino, moleca, tecido, tie,...</td>\n",
       "    </tr>\n",
       "    <tr>\n",
       "      <th>4</th>\n",
       "      <td>Tênis Star Baby Sapatinho Conforto + Brinde</td>\n",
       "      <td>[tênis, star, baby, sapatinho, conforto, brinde]</td>\n",
       "    </tr>\n",
       "    <tr>\n",
       "      <th>...</th>\n",
       "      <td>...</td>\n",
       "      <td>...</td>\n",
       "    </tr>\n",
       "    <tr>\n",
       "      <th>9995</th>\n",
       "      <td>Chuteira Futsal Oxn Velox 3 Infantil</td>\n",
       "      <td>[chuteira, futsal, oxn, velox, 3, infantil]</td>\n",
       "    </tr>\n",
       "    <tr>\n",
       "      <th>9996</th>\n",
       "      <td>Sapatenis Casual Masculino Estiloso 24horas Co...</td>\n",
       "      <td>[sapatenis, casual, masculino, estiloso, 24hor...</td>\n",
       "    </tr>\n",
       "    <tr>\n",
       "      <th>9997</th>\n",
       "      <td>Tênis Feminino Infantil Molekinha Tie Dye</td>\n",
       "      <td>[tênis, feminino, infantil, molekinha, tie, dye]</td>\n",
       "    </tr>\n",
       "    <tr>\n",
       "      <th>9998</th>\n",
       "      <td>Tênis Feminino Leve Barato Ganhe 1 Colchonete ...</td>\n",
       "      <td>[tênis, feminino, leve, barato, ganhe, 1, colc...</td>\n",
       "    </tr>\n",
       "    <tr>\n",
       "      <th>9999</th>\n",
       "      <td>Tênis Polo Ralph Lauren Modelo Cantor Low Bran...</td>\n",
       "      <td>[tênis, polo, ralph, lauren, modelo, cantor, l...</td>\n",
       "    </tr>\n",
       "  </tbody>\n",
       "</table>\n",
       "<p>10000 rows × 2 columns</p>\n",
       "</div>"
      ],
      "text/plain": [
       "                                         ITE_ITEM_TITLE  \\\n",
       "0      Tênis Olympikus Esporte Valente - Masculino Kids   \n",
       "1     Bicicleta Barra Forte Samy C/ 6 Marchas Cubo C...   \n",
       "2          Tênis Usthemp Slip-on Temático - Labrador 2   \n",
       "3           Tênis Casual Feminino Moleca Tecido Tie Dye   \n",
       "4           Tênis Star Baby Sapatinho Conforto + Brinde   \n",
       "...                                                 ...   \n",
       "9995               Chuteira Futsal Oxn Velox 3 Infantil   \n",
       "9996  Sapatenis Casual Masculino Estiloso 24horas Co...   \n",
       "9997          Tênis Feminino Infantil Molekinha Tie Dye   \n",
       "9998  Tênis Feminino Leve Barato Ganhe 1 Colchonete ...   \n",
       "9999  Tênis Polo Ralph Lauren Modelo Cantor Low Bran...   \n",
       "\n",
       "                                           cleaned_text  \n",
       "0     [tênis, olympikus, esporte, valente, masculino...  \n",
       "1     [bicicleta, barra, forte, samy, c/, 6, marchas...  \n",
       "2     [tênis, usthemp, slip-on, temático, labrador, 2]  \n",
       "3     [tênis, casual, feminino, moleca, tecido, tie,...  \n",
       "4      [tênis, star, baby, sapatinho, conforto, brinde]  \n",
       "...                                                 ...  \n",
       "9995        [chuteira, futsal, oxn, velox, 3, infantil]  \n",
       "9996  [sapatenis, casual, masculino, estiloso, 24hor...  \n",
       "9997   [tênis, feminino, infantil, molekinha, tie, dye]  \n",
       "9998  [tênis, feminino, leve, barato, ganhe, 1, colc...  \n",
       "9999  [tênis, polo, ralph, lauren, modelo, cantor, l...  \n",
       "\n",
       "[10000 rows x 2 columns]"
      ]
     },
     "execution_count": 14,
     "metadata": {},
     "output_type": "execute_result"
    }
   ],
   "source": [
    "df"
   ]
  },
  {
   "cell_type": "code",
   "execution_count": 15,
   "metadata": {},
   "outputs": [],
   "source": [
    "#Joineamos los tokens en una sola cadena de char\n",
    "df['joined_text'] = df['cleaned_text'].apply(lambda x: ' '.join(x))"
   ]
  },
  {
   "cell_type": "code",
   "execution_count": 16,
   "metadata": {},
   "outputs": [
    {
     "data": {
      "text/html": [
       "<div>\n",
       "<style scoped>\n",
       "    .dataframe tbody tr th:only-of-type {\n",
       "        vertical-align: middle;\n",
       "    }\n",
       "\n",
       "    .dataframe tbody tr th {\n",
       "        vertical-align: top;\n",
       "    }\n",
       "\n",
       "    .dataframe thead th {\n",
       "        text-align: right;\n",
       "    }\n",
       "</style>\n",
       "<table border=\"1\" class=\"dataframe\">\n",
       "  <thead>\n",
       "    <tr style=\"text-align: right;\">\n",
       "      <th></th>\n",
       "      <th>ITE_ITEM_TITLE</th>\n",
       "      <th>cleaned_text</th>\n",
       "      <th>joined_text</th>\n",
       "    </tr>\n",
       "  </thead>\n",
       "  <tbody>\n",
       "    <tr>\n",
       "      <th>0</th>\n",
       "      <td>Tênis Olympikus Esporte Valente - Masculino Kids</td>\n",
       "      <td>[tênis, olympikus, esporte, valente, masculino...</td>\n",
       "      <td>tênis olympikus esporte valente masculino kid</td>\n",
       "    </tr>\n",
       "    <tr>\n",
       "      <th>1</th>\n",
       "      <td>Bicicleta Barra Forte Samy C/ 6 Marchas Cubo C...</td>\n",
       "      <td>[bicicleta, barra, forte, samy, c/, 6, marchas...</td>\n",
       "      <td>bicicleta barra forte samy c/ 6 marchas cubo c...</td>\n",
       "    </tr>\n",
       "    <tr>\n",
       "      <th>2</th>\n",
       "      <td>Tênis Usthemp Slip-on Temático - Labrador 2</td>\n",
       "      <td>[tênis, usthemp, slip-on, temático, labrador, 2]</td>\n",
       "      <td>tênis usthemp slip-on temático labrador 2</td>\n",
       "    </tr>\n",
       "    <tr>\n",
       "      <th>3</th>\n",
       "      <td>Tênis Casual Feminino Moleca Tecido Tie Dye</td>\n",
       "      <td>[tênis, casual, feminino, moleca, tecido, tie,...</td>\n",
       "      <td>tênis casual feminino moleca tecido tie dye</td>\n",
       "    </tr>\n",
       "    <tr>\n",
       "      <th>4</th>\n",
       "      <td>Tênis Star Baby Sapatinho Conforto + Brinde</td>\n",
       "      <td>[tênis, star, baby, sapatinho, conforto, brinde]</td>\n",
       "      <td>tênis star baby sapatinho conforto brinde</td>\n",
       "    </tr>\n",
       "    <tr>\n",
       "      <th>...</th>\n",
       "      <td>...</td>\n",
       "      <td>...</td>\n",
       "      <td>...</td>\n",
       "    </tr>\n",
       "    <tr>\n",
       "      <th>9995</th>\n",
       "      <td>Chuteira Futsal Oxn Velox 3 Infantil</td>\n",
       "      <td>[chuteira, futsal, oxn, velox, 3, infantil]</td>\n",
       "      <td>chuteira futsal oxn velox 3 infantil</td>\n",
       "    </tr>\n",
       "    <tr>\n",
       "      <th>9996</th>\n",
       "      <td>Sapatenis Casual Masculino Estiloso 24horas Co...</td>\n",
       "      <td>[sapatenis, casual, masculino, estiloso, 24hor...</td>\n",
       "      <td>sapatenis casual masculino estiloso 24horas co...</td>\n",
       "    </tr>\n",
       "    <tr>\n",
       "      <th>9997</th>\n",
       "      <td>Tênis Feminino Infantil Molekinha Tie Dye</td>\n",
       "      <td>[tênis, feminino, infantil, molekinha, tie, dye]</td>\n",
       "      <td>tênis feminino infantil molekinha tie dye</td>\n",
       "    </tr>\n",
       "    <tr>\n",
       "      <th>9998</th>\n",
       "      <td>Tênis Feminino Leve Barato Ganhe 1 Colchonete ...</td>\n",
       "      <td>[tênis, feminino, leve, barato, ganhe, 1, colc...</td>\n",
       "      <td>tênis feminino leve barato ganhe 1 colchonete ...</td>\n",
       "    </tr>\n",
       "    <tr>\n",
       "      <th>9999</th>\n",
       "      <td>Tênis Polo Ralph Lauren Modelo Cantor Low Bran...</td>\n",
       "      <td>[tênis, polo, ralph, lauren, modelo, cantor, l...</td>\n",
       "      <td>tênis polo ralph lauren modelo cantor low bran...</td>\n",
       "    </tr>\n",
       "  </tbody>\n",
       "</table>\n",
       "<p>10000 rows × 3 columns</p>\n",
       "</div>"
      ],
      "text/plain": [
       "                                         ITE_ITEM_TITLE  \\\n",
       "0      Tênis Olympikus Esporte Valente - Masculino Kids   \n",
       "1     Bicicleta Barra Forte Samy C/ 6 Marchas Cubo C...   \n",
       "2          Tênis Usthemp Slip-on Temático - Labrador 2   \n",
       "3           Tênis Casual Feminino Moleca Tecido Tie Dye   \n",
       "4           Tênis Star Baby Sapatinho Conforto + Brinde   \n",
       "...                                                 ...   \n",
       "9995               Chuteira Futsal Oxn Velox 3 Infantil   \n",
       "9996  Sapatenis Casual Masculino Estiloso 24horas Co...   \n",
       "9997          Tênis Feminino Infantil Molekinha Tie Dye   \n",
       "9998  Tênis Feminino Leve Barato Ganhe 1 Colchonete ...   \n",
       "9999  Tênis Polo Ralph Lauren Modelo Cantor Low Bran...   \n",
       "\n",
       "                                           cleaned_text  \\\n",
       "0     [tênis, olympikus, esporte, valente, masculino...   \n",
       "1     [bicicleta, barra, forte, samy, c/, 6, marchas...   \n",
       "2     [tênis, usthemp, slip-on, temático, labrador, 2]   \n",
       "3     [tênis, casual, feminino, moleca, tecido, tie,...   \n",
       "4      [tênis, star, baby, sapatinho, conforto, brinde]   \n",
       "...                                                 ...   \n",
       "9995        [chuteira, futsal, oxn, velox, 3, infantil]   \n",
       "9996  [sapatenis, casual, masculino, estiloso, 24hor...   \n",
       "9997   [tênis, feminino, infantil, molekinha, tie, dye]   \n",
       "9998  [tênis, feminino, leve, barato, ganhe, 1, colc...   \n",
       "9999  [tênis, polo, ralph, lauren, modelo, cantor, l...   \n",
       "\n",
       "                                            joined_text  \n",
       "0         tênis olympikus esporte valente masculino kid  \n",
       "1     bicicleta barra forte samy c/ 6 marchas cubo c...  \n",
       "2            tênis usthemp slip-on temático labrador 2  \n",
       "3           tênis casual feminino moleca tecido tie dye  \n",
       "4             tênis star baby sapatinho conforto brinde  \n",
       "...                                                 ...  \n",
       "9995               chuteira futsal oxn velox 3 infantil  \n",
       "9996  sapatenis casual masculino estiloso 24horas co...  \n",
       "9997          tênis feminino infantil molekinha tie dye  \n",
       "9998  tênis feminino leve barato ganhe 1 colchonete ...  \n",
       "9999  tênis polo ralph lauren modelo cantor low bran...  \n",
       "\n",
       "[10000 rows x 3 columns]"
      ]
     },
     "execution_count": 16,
     "metadata": {},
     "output_type": "execute_result"
    }
   ],
   "source": [
    "df"
   ]
  },
  {
   "cell_type": "code",
   "execution_count": 17,
   "metadata": {},
   "outputs": [],
   "source": [
    "#Aplicamos Tfidf en el texto unido\n",
    "vectorizer = TfidfVectorizer()\n",
    "X = vectorizer.fit_transform(df['joined_text'])"
   ]
  },
  {
   "cell_type": "code",
   "execution_count": 18,
   "metadata": {},
   "outputs": [],
   "source": [
    "df['cleaned_text_2'] = df['ITE_ITEM_TITLE'].str.split()  # split into words"
   ]
  },
  {
   "cell_type": "code",
   "execution_count": 19,
   "metadata": {},
   "outputs": [
    {
     "data": {
      "text/plain": [
       "(10000, 8298)"
      ]
     },
     "execution_count": 19,
     "metadata": {},
     "output_type": "execute_result"
    }
   ],
   "source": [
    "X.shape"
   ]
  },
  {
   "cell_type": "markdown",
   "metadata": {},
   "source": [
    "A partir de esto podemos aplicar la matriz de coseno para ver que tan relacionadas estan los titulos entre si"
   ]
  },
  {
   "cell_type": "code",
   "execution_count": 20,
   "metadata": {},
   "outputs": [],
   "source": [
    "from sklearn.metrics.pairwise import cosine_similarity"
   ]
  },
  {
   "cell_type": "code",
   "execution_count": 21,
   "metadata": {},
   "outputs": [
    {
     "name": "stdout",
     "output_type": "stream",
     "text": [
      "[[1.         0.         0.01358911 ... 0.01601534 0.01110849 0.03694766]\n",
      " [0.         1.         0.         ... 0.         0.         0.        ]\n",
      " [0.01358911 0.         1.         ... 0.01566584 0.01086608 0.00911359]\n",
      " ...\n",
      " [0.01601534 0.         0.01566584 ... 1.         0.04190329 0.01074074]\n",
      " [0.01110849 0.         0.01086608 ... 0.04190329 1.         0.00744995]\n",
      " [0.03694766 0.         0.00911359 ... 0.01074074 0.00744995 1.        ]]\n"
     ]
    }
   ],
   "source": [
    "cosine_matrix = cosine_similarity(X)\n",
    "print(cosine_matrix)"
   ]
  },
  {
   "cell_type": "code",
   "execution_count": 22,
   "metadata": {},
   "outputs": [],
   "source": [
    "import matplotlib.pyplot as plt\n",
    "import seaborn as sns"
   ]
  },
  {
   "cell_type": "markdown",
   "metadata": {},
   "source": [
    "Aca primero vamos a visualizar los top 5 titulos que mas match hacen, para ver si la matriz de coseno esta siendo correctamente ejecutada"
   ]
  },
  {
   "cell_type": "code",
   "execution_count": 23,
   "metadata": {},
   "outputs": [
    {
     "name": "stdout",
     "output_type": "stream",
     "text": [
      "                                                                                      Similar Title 1  \\\n",
      "Tênis Olympikus Esporte Valente - Masculino Kids    Tênis Olympikus Esporte Valente - Masculino In...   \n",
      "Bicicleta Barra Forte Samy C/ 6 Marchas Cubo C/...    Bicicleta Leve Dobra Roda De Rolamento Fácil De   \n",
      "Tênis Usthemp Slip-on Temático - Labrador 2              Tênis Usthemp Volare Temático - Labrador 2   \n",
      "Tênis Casual Feminino Moleca Tecido Tie Dye                               Tênis Kolosh Casual Tie Dye   \n",
      "Tênis Star Baby Sapatinho Conforto + Brinde         Tenis Infantil Meninas Kidy Conforto Macio Bab...   \n",
      "...                                                                                               ...   \n",
      "Chuteira Futsal Oxn Velox 3 Infantil                  Tênis Chuteira Oxn Velox 3 Indoor 2 Verde Limão   \n",
      "Sapatenis Casual Masculino Estiloso 24horas Con...                                 Sapatênis Estiloso   \n",
      "Tênis Feminino Infantil Molekinha Tie Dye                                 Tênis Kolosh Casual Tie Dye   \n",
      "Tênis Feminino Leve Barato Ganhe 1 Colchonete P...  Tênis Barato Leve Feminino Ganhe 3 Pares Meias...   \n",
      "Tênis Polo Ralph Lauren Modelo Cantor Low Branc...             Sapatênis Polo Ralph Lauren Tamanho 41   \n",
      "\n",
      "                                                                                      Similar Title 2  \\\n",
      "Tênis Olympikus Esporte Valente - Masculino Kids    Tênis Olympikus Masculino Valente - Kids Infan...   \n",
      "Bicicleta Barra Forte Samy C/ 6 Marchas Cubo C/...  Bicicleta Forte E Resistente Das Crianças Da R...   \n",
      "Tênis Usthemp Slip-on Temático - Labrador 2        Tênis Usthemp Spice Temático -  Labrador Choc...   \n",
      "Tênis Casual Feminino Moleca Tecido Tie Dye                  Tênis Feminino Moleca Multicolor Tie Dye   \n",
      "Tênis Star Baby Sapatinho Conforto + Brinde                                  Tênis Masculino + Brinde   \n",
      "...                                                                                               ...   \n",
      "Chuteira Futsal Oxn Velox 3 Infantil                Tenis Chuteira Dostin Futsal  Com Brinde Original   \n",
      "Sapatenis Casual Masculino Estiloso 24horas Con...  Tênis Masculino Casual Social Sapatenis Homem ...   \n",
      "Tênis Feminino Infantil Molekinha Tie Dye                 Tênis Tie Dye  Feminino + Relógio De Brinde   \n",
      "Tênis Feminino Leve Barato Ganhe 1 Colchonete P...  Tênis Masc. Barato Leve Fresco Ganhe 1 Par De ...   \n",
      "Tênis Polo Ralph Lauren Modelo Cantor Low Branc...        Sapatênis De Modelo Casual Masculino Branco   \n",
      "\n",
      "                                                                                      Similar Title 3  \\\n",
      "Tênis Olympikus Esporte Valente - Masculino Kids    Tênis Infantil Masculino Olympikus Valente Azu...   \n",
      "Bicicleta Barra Forte Samy C/ 6 Marchas Cubo C/...  Barra De Extensão De Roda Fácil De Bicicleta D...   \n",
      "Tênis Usthemp Slip-on Temático - Labrador 2        Sapato Usthemp Legend Temático - Labrador Cho...   \n",
      "Tênis Casual Feminino Moleca Tecido Tie Dye                 Tênis Feminino Infantil Molekinha Tie Dye   \n",
      "Tênis Star Baby Sapatinho Conforto + Brinde                       Tênis Baby Via Vip Stars Feminino     \n",
      "...                                                                                               ...   \n",
      "Chuteira Futsal Oxn Velox 3 Infantil                Chuteira Pro Soccer Futsal Infantil - Marinho ...   \n",
      "Sapatenis Casual Masculino Estiloso 24horas Con...  Kit 2 Sapatenis 1 Tenis Casual Masculino Promo...   \n",
      "Tênis Feminino Infantil Molekinha Tie Dye                 Tênis Casual Feminino Moleca Tecido Tie Dye   \n",
      "Tênis Feminino Leve Barato Ganhe 1 Colchonete P...  Tênis Feminino Masculino Leve Academia Caminha...   \n",
      "Tênis Polo Ralph Lauren Modelo Cantor Low Branc...    Sapatenis Polo Ralph Burlap Original Masculinos   \n",
      "\n",
      "                                                                                      Similar Title 4  \\\n",
      "Tênis Olympikus Esporte Valente - Masculino Kids                        Tênis Esporte Olympikus Veloz   \n",
      "Bicicleta Barra Forte Samy C/ 6 Marchas Cubo C/...  Bicicleta Aro 20 Masc. Samy Roquet Cross Aero ...   \n",
      "Tênis Usthemp Slip-on Temático - Labrador 2          Tênis Usthemp Half Temático - Lunna Labrador 3   \n",
      "Tênis Casual Feminino Moleca Tecido Tie Dye                       Tênis Casual Feminino Tie-dye Comfy   \n",
      "Tênis Star Baby Sapatinho Conforto + Brinde               Sapatinho Tenis Infantil Menino Tamanho 17    \n",
      "...                                                                                               ...   \n",
      "Chuteira Futsal Oxn Velox 3 Infantil                                   Chuteira Futsal Penalty Tam 36   \n",
      "Sapatenis Casual Masculino Estiloso 24horas Con...  Tenis Sapatenis Feminino Via Marte Verão Casua...   \n",
      "Tênis Feminino Infantil Molekinha Tie Dye                         Tênis Casual Feminino Tie-dye Comfy   \n",
      "Tênis Feminino Leve Barato Ganhe 1 Colchonete P...  Tênis Feminino Day Confort Treino Leve Macio -...   \n",
      "Tênis Polo Ralph Lauren Modelo Cantor Low Branc...                             Tênis Masculino Branco   \n",
      "\n",
      "                                                                                      Similar Title 5  \n",
      "Tênis Olympikus Esporte Valente - Masculino Kids             Tênis Olympikus Feminino Cyber 2 Esporte  \n",
      "Bicicleta Barra Forte Samy C/ 6 Marchas Cubo C/...                        Bicicleta Aro 26 18 Marchas  \n",
      "Tênis Usthemp Slip-on Temático - Labrador 2                 Tênis Usthemp Slip-on Temático - Raposa  \n",
      "Tênis Casual Feminino Moleca Tecido Tie Dye               Tênis Tie Dye  Feminino + Relógio De Brinde  \n",
      "Tênis Star Baby Sapatinho Conforto + Brinde         Tenis  Sapatinho De Luz Led Rosa Infantil Femi...  \n",
      "...                                                                                               ...  \n",
      "Chuteira Futsal Oxn Velox 3 Infantil                              Chuteira Dalponte Futsal Tamanho 37  \n",
      "Sapatenis Casual Masculino Estiloso 24horas Con...  Kit 3 Sapatênis Masculino Casual, Confortável,...  \n",
      "Tênis Feminino Infantil Molekinha Tie Dye             Tênis Infantil Feminino Bibi Roller New Tie-dye  \n",
      "Tênis Feminino Leve Barato Ganhe 1 Colchonete P...  Tênis Feminino Para Academia Azul Estiloso Pro...  \n",
      "Tênis Polo Ralph Lauren Modelo Cantor Low Branc...   Tênis Masculino Polo Casual Confortável Promoção  \n",
      "\n",
      "[10000 rows x 5 columns]\n"
     ]
    }
   ],
   "source": [
    "# Para cada titulo, obtenemos los 5 titulos que mas se parecen excluyendo el primer titulo en cuestion\n",
    "top_scores_indices = (-cosine_matrix).argsort()[:, 1:6]\n",
    "\n",
    "title_list = df['ITE_ITEM_TITLE'].values # Get the list of titles\n",
    "\n",
    "# Obtenemos los titulos mas similares\n",
    "similar_titles = [[title_list[i] for i in row] for row in top_scores_indices]\n",
    "\n",
    "# Creamos el output\n",
    "df_sim = pd.DataFrame(similar_titles, index=df['ITE_ITEM_TITLE'].values, \n",
    "                      columns=[f\"Similar Title {i+1}\" for i in range(5)])\n",
    "\n",
    "print(df_sim)"
   ]
  },
  {
   "cell_type": "code",
   "execution_count": 24,
   "metadata": {},
   "outputs": [
    {
     "data": {
      "text/html": [
       "<div>\n",
       "<style scoped>\n",
       "    .dataframe tbody tr th:only-of-type {\n",
       "        vertical-align: middle;\n",
       "    }\n",
       "\n",
       "    .dataframe tbody tr th {\n",
       "        vertical-align: top;\n",
       "    }\n",
       "\n",
       "    .dataframe thead th {\n",
       "        text-align: right;\n",
       "    }\n",
       "</style>\n",
       "<table border=\"1\" class=\"dataframe\">\n",
       "  <thead>\n",
       "    <tr style=\"text-align: right;\">\n",
       "      <th></th>\n",
       "      <th>Similar Title 1</th>\n",
       "      <th>Similar Title 2</th>\n",
       "      <th>Similar Title 3</th>\n",
       "      <th>Similar Title 4</th>\n",
       "      <th>Similar Title 5</th>\n",
       "    </tr>\n",
       "  </thead>\n",
       "  <tbody>\n",
       "    <tr>\n",
       "      <th>Chuteira Futsal Oxn Velox 3 Infantil</th>\n",
       "      <td>Tênis Chuteira Oxn Velox 3 Indoor 2 Verde Limão</td>\n",
       "      <td>Tenis Chuteira Dostin Futsal  Com Brinde Original</td>\n",
       "      <td>Chuteira Pro Soccer Futsal Infantil - Marinho ...</td>\n",
       "      <td>Chuteira Futsal Penalty Tam 36</td>\n",
       "      <td>Chuteira Dalponte Futsal Tamanho 37</td>\n",
       "    </tr>\n",
       "    <tr>\n",
       "      <th>Sapatenis Casual Masculino Estiloso 24horas Conforto Qualida</th>\n",
       "      <td>Sapatênis Estiloso</td>\n",
       "      <td>Tênis Masculino Casual Social Sapatenis Homem ...</td>\n",
       "      <td>Kit 2 Sapatenis 1 Tenis Casual Masculino Promo...</td>\n",
       "      <td>Tenis Sapatenis Feminino Via Marte Verão Casua...</td>\n",
       "      <td>Kit 3 Sapatênis Masculino Casual, Confortável,...</td>\n",
       "    </tr>\n",
       "    <tr>\n",
       "      <th>Tênis Feminino Infantil Molekinha Tie Dye</th>\n",
       "      <td>Tênis Kolosh Casual Tie Dye</td>\n",
       "      <td>Tênis Tie Dye  Feminino + Relógio De Brinde</td>\n",
       "      <td>Tênis Casual Feminino Moleca Tecido Tie Dye</td>\n",
       "      <td>Tênis Casual Feminino Tie-dye Comfy</td>\n",
       "      <td>Tênis Infantil Feminino Bibi Roller New Tie-dye</td>\n",
       "    </tr>\n",
       "    <tr>\n",
       "      <th>Tênis Feminino Leve Barato Ganhe 1 Colchonete P/ Treino Azul</th>\n",
       "      <td>Tênis Barato Leve Feminino Ganhe 3 Pares Meias...</td>\n",
       "      <td>Tênis Masc. Barato Leve Fresco Ganhe 1 Par De ...</td>\n",
       "      <td>Tênis Feminino Masculino Leve Academia Caminha...</td>\n",
       "      <td>Tênis Feminino Day Confort Treino Leve Macio -...</td>\n",
       "      <td>Tênis Feminino Para Academia Azul Estiloso Pro...</td>\n",
       "    </tr>\n",
       "    <tr>\n",
       "      <th>Tênis Polo Ralph Lauren Modelo Cantor Low Branco Masculino</th>\n",
       "      <td>Sapatênis Polo Ralph Lauren Tamanho 41</td>\n",
       "      <td>Sapatênis De Modelo Casual Masculino Branco</td>\n",
       "      <td>Sapatenis Polo Ralph Burlap Original Masculinos</td>\n",
       "      <td>Tênis Masculino Branco</td>\n",
       "      <td>Tênis Masculino Polo Casual Confortável Promoção</td>\n",
       "    </tr>\n",
       "  </tbody>\n",
       "</table>\n",
       "</div>"
      ],
      "text/plain": [
       "                                                                                      Similar Title 1  \\\n",
       "Chuteira Futsal Oxn Velox 3 Infantil                  Tênis Chuteira Oxn Velox 3 Indoor 2 Verde Limão   \n",
       "Sapatenis Casual Masculino Estiloso 24horas Con...                                 Sapatênis Estiloso   \n",
       "Tênis Feminino Infantil Molekinha Tie Dye                                 Tênis Kolosh Casual Tie Dye   \n",
       "Tênis Feminino Leve Barato Ganhe 1 Colchonete P...  Tênis Barato Leve Feminino Ganhe 3 Pares Meias...   \n",
       "Tênis Polo Ralph Lauren Modelo Cantor Low Branc...             Sapatênis Polo Ralph Lauren Tamanho 41   \n",
       "\n",
       "                                                                                      Similar Title 2  \\\n",
       "Chuteira Futsal Oxn Velox 3 Infantil                Tenis Chuteira Dostin Futsal  Com Brinde Original   \n",
       "Sapatenis Casual Masculino Estiloso 24horas Con...  Tênis Masculino Casual Social Sapatenis Homem ...   \n",
       "Tênis Feminino Infantil Molekinha Tie Dye                 Tênis Tie Dye  Feminino + Relógio De Brinde   \n",
       "Tênis Feminino Leve Barato Ganhe 1 Colchonete P...  Tênis Masc. Barato Leve Fresco Ganhe 1 Par De ...   \n",
       "Tênis Polo Ralph Lauren Modelo Cantor Low Branc...        Sapatênis De Modelo Casual Masculino Branco   \n",
       "\n",
       "                                                                                      Similar Title 3  \\\n",
       "Chuteira Futsal Oxn Velox 3 Infantil                Chuteira Pro Soccer Futsal Infantil - Marinho ...   \n",
       "Sapatenis Casual Masculino Estiloso 24horas Con...  Kit 2 Sapatenis 1 Tenis Casual Masculino Promo...   \n",
       "Tênis Feminino Infantil Molekinha Tie Dye                 Tênis Casual Feminino Moleca Tecido Tie Dye   \n",
       "Tênis Feminino Leve Barato Ganhe 1 Colchonete P...  Tênis Feminino Masculino Leve Academia Caminha...   \n",
       "Tênis Polo Ralph Lauren Modelo Cantor Low Branc...    Sapatenis Polo Ralph Burlap Original Masculinos   \n",
       "\n",
       "                                                                                      Similar Title 4  \\\n",
       "Chuteira Futsal Oxn Velox 3 Infantil                                   Chuteira Futsal Penalty Tam 36   \n",
       "Sapatenis Casual Masculino Estiloso 24horas Con...  Tenis Sapatenis Feminino Via Marte Verão Casua...   \n",
       "Tênis Feminino Infantil Molekinha Tie Dye                         Tênis Casual Feminino Tie-dye Comfy   \n",
       "Tênis Feminino Leve Barato Ganhe 1 Colchonete P...  Tênis Feminino Day Confort Treino Leve Macio -...   \n",
       "Tênis Polo Ralph Lauren Modelo Cantor Low Branc...                             Tênis Masculino Branco   \n",
       "\n",
       "                                                                                      Similar Title 5  \n",
       "Chuteira Futsal Oxn Velox 3 Infantil                              Chuteira Dalponte Futsal Tamanho 37  \n",
       "Sapatenis Casual Masculino Estiloso 24horas Con...  Kit 3 Sapatênis Masculino Casual, Confortável,...  \n",
       "Tênis Feminino Infantil Molekinha Tie Dye             Tênis Infantil Feminino Bibi Roller New Tie-dye  \n",
       "Tênis Feminino Leve Barato Ganhe 1 Colchonete P...  Tênis Feminino Para Academia Azul Estiloso Pro...  \n",
       "Tênis Polo Ralph Lauren Modelo Cantor Low Branc...   Tênis Masculino Polo Casual Confortável Promoção  "
      ]
     },
     "execution_count": 24,
     "metadata": {},
     "output_type": "execute_result"
    }
   ],
   "source": [
    "df_sim.tail() #Vemos una parte del output"
   ]
  },
  {
   "cell_type": "code",
   "execution_count": 25,
   "metadata": {},
   "outputs": [],
   "source": [
    "# Necesitamos titles_list como lista para acceder al index\n",
    "titles_list = df['joined_text'].tolist()"
   ]
  },
  {
   "cell_type": "code",
   "execution_count": 26,
   "metadata": {},
   "outputs": [],
   "source": [
    "# Armamos vectores vacios\n",
    "most_similar_titles = []\n",
    "similarity_scores = []"
   ]
  },
  {
   "cell_type": "code",
   "execution_count": 27,
   "metadata": {},
   "outputs": [],
   "source": [
    "#ACA ENCONTRAMOS EL MEJOR MATCH\n",
    "\n",
    "#Aca generamos una iteracion en cada titulo a partir de cada score, y evitamos que un mismo titulo matchee como mejor titulo su mismo titulo\n",
    "for idx, row in enumerate(cosine_matrix):\n",
    "    row[idx] = 0  # self-similarity se seta en 0 para evitar que matchee con el su mismo titulo\n",
    "    best_match_idx = row.argmax()  #Indice del mejor match\n",
    "    most_similar_titles.append(titles_list[best_match_idx])  #Titulo asociado\n",
    "    similarity_scores.append(row[best_match_idx])  #Score correspondiente\n",
    "\n",
    "#Output\n",
    "result_df = pd.DataFrame({\n",
    "    'Title': titles_list,\n",
    "    'Most Similar Title': most_similar_titles,\n",
    "    'Score': similarity_scores\n",
    "})\n"
   ]
  },
  {
   "cell_type": "code",
   "execution_count": 28,
   "metadata": {},
   "outputs": [
    {
     "data": {
      "text/html": [
       "<div>\n",
       "<style scoped>\n",
       "    .dataframe tbody tr th:only-of-type {\n",
       "        vertical-align: middle;\n",
       "    }\n",
       "\n",
       "    .dataframe tbody tr th {\n",
       "        vertical-align: top;\n",
       "    }\n",
       "\n",
       "    .dataframe thead th {\n",
       "        text-align: right;\n",
       "    }\n",
       "</style>\n",
       "<table border=\"1\" class=\"dataframe\">\n",
       "  <thead>\n",
       "    <tr style=\"text-align: right;\">\n",
       "      <th></th>\n",
       "      <th>Title</th>\n",
       "      <th>Most Similar Title</th>\n",
       "      <th>Score</th>\n",
       "    </tr>\n",
       "  </thead>\n",
       "  <tbody>\n",
       "    <tr>\n",
       "      <th>0</th>\n",
       "      <td>tênis olympikus esporte valente masculino kid</td>\n",
       "      <td>tênis olympikus esporte valente masculino inf ...</td>\n",
       "      <td>0.715786</td>\n",
       "    </tr>\n",
       "    <tr>\n",
       "      <th>1</th>\n",
       "      <td>bicicleta barra forte samy c/ 6 marchas cubo c...</td>\n",
       "      <td>bicicleta leve dobra roda rolamento fácil</td>\n",
       "      <td>0.259219</td>\n",
       "    </tr>\n",
       "    <tr>\n",
       "      <th>2</th>\n",
       "      <td>tênis usthemp slip-on temático labrador 2</td>\n",
       "      <td>tênis usthemp volare temático labrador 2</td>\n",
       "      <td>0.796797</td>\n",
       "    </tr>\n",
       "    <tr>\n",
       "      <th>3</th>\n",
       "      <td>tênis casual feminino moleca tecido tie dye</td>\n",
       "      <td>tênis kolosh casual tie dye</td>\n",
       "      <td>0.658061</td>\n",
       "    </tr>\n",
       "    <tr>\n",
       "      <th>4</th>\n",
       "      <td>tênis star baby sapatinho conforto brinde</td>\n",
       "      <td>tenis infantil meninas kidy conforto macio bab...</td>\n",
       "      <td>0.399730</td>\n",
       "    </tr>\n",
       "    <tr>\n",
       "      <th>...</th>\n",
       "      <td>...</td>\n",
       "      <td>...</td>\n",
       "      <td>...</td>\n",
       "    </tr>\n",
       "    <tr>\n",
       "      <th>9995</th>\n",
       "      <td>chuteira futsal oxn velox 3 infantil</td>\n",
       "      <td>tênis chuteira oxn velox 3 indoor 2 verde limão</td>\n",
       "      <td>0.671245</td>\n",
       "    </tr>\n",
       "    <tr>\n",
       "      <th>9996</th>\n",
       "      <td>sapatenis casual masculino estiloso 24horas co...</td>\n",
       "      <td>sapatênis estiloso</td>\n",
       "      <td>0.352198</td>\n",
       "    </tr>\n",
       "    <tr>\n",
       "      <th>9997</th>\n",
       "      <td>tênis feminino infantil molekinha tie dye</td>\n",
       "      <td>tênis kolosh casual tie dye</td>\n",
       "      <td>0.665930</td>\n",
       "    </tr>\n",
       "    <tr>\n",
       "      <th>9998</th>\n",
       "      <td>tênis feminino leve barato ganhe 1 colchonete ...</td>\n",
       "      <td>tênis barato leve feminino ganhe 3 pares meias...</td>\n",
       "      <td>0.452056</td>\n",
       "    </tr>\n",
       "    <tr>\n",
       "      <th>9999</th>\n",
       "      <td>tênis polo ralph lauren modelo cantor low bran...</td>\n",
       "      <td>sapatênis polo ralph lauren tamanho 41</td>\n",
       "      <td>0.577569</td>\n",
       "    </tr>\n",
       "  </tbody>\n",
       "</table>\n",
       "<p>10000 rows × 3 columns</p>\n",
       "</div>"
      ],
      "text/plain": [
       "                                                  Title  \\\n",
       "0         tênis olympikus esporte valente masculino kid   \n",
       "1     bicicleta barra forte samy c/ 6 marchas cubo c...   \n",
       "2            tênis usthemp slip-on temático labrador 2   \n",
       "3           tênis casual feminino moleca tecido tie dye   \n",
       "4             tênis star baby sapatinho conforto brinde   \n",
       "...                                                 ...   \n",
       "9995               chuteira futsal oxn velox 3 infantil   \n",
       "9996  sapatenis casual masculino estiloso 24horas co...   \n",
       "9997          tênis feminino infantil molekinha tie dye   \n",
       "9998  tênis feminino leve barato ganhe 1 colchonete ...   \n",
       "9999  tênis polo ralph lauren modelo cantor low bran...   \n",
       "\n",
       "                                     Most Similar Title     Score  \n",
       "0     tênis olympikus esporte valente masculino inf ...  0.715786  \n",
       "1             bicicleta leve dobra roda rolamento fácil  0.259219  \n",
       "2             tênis usthemp volare temático labrador 2  0.796797  \n",
       "3                           tênis kolosh casual tie dye  0.658061  \n",
       "4     tenis infantil meninas kidy conforto macio bab...  0.399730  \n",
       "...                                                 ...       ...  \n",
       "9995    tênis chuteira oxn velox 3 indoor 2 verde limão  0.671245  \n",
       "9996                                 sapatênis estiloso  0.352198  \n",
       "9997                        tênis kolosh casual tie dye  0.665930  \n",
       "9998  tênis barato leve feminino ganhe 3 pares meias...  0.452056  \n",
       "9999             sapatênis polo ralph lauren tamanho 41  0.577569  \n",
       "\n",
       "[10000 rows x 3 columns]"
      ]
     },
     "execution_count": 28,
     "metadata": {},
     "output_type": "execute_result"
    }
   ],
   "source": [
    "#Aca vemos el mejor match de un title con otro\n",
    "result_df"
   ]
  },
  {
   "cell_type": "code",
   "execution_count": 29,
   "metadata": {},
   "outputs": [],
   "source": [
    "import numpy as np"
   ]
  },
  {
   "cell_type": "code",
   "execution_count": 30,
   "metadata": {},
   "outputs": [],
   "source": [
    "#ACA vamos a generar el output con todas las combinaciones posibles\n",
    "matches_scores = []\n",
    "\n",
    "for idx, row in enumerate(cosine_matrix):\n",
    "    row[idx] = -np.inf  # set self-comparison to -infinity to exclude from matching\n",
    "    sorted_indices = np.argsort(row)[::-1]  # Ordenamos de mayor a menor los scores\n",
    "    \n",
    "    #Capturamos los nombres de los titulos y los score\n",
    "    matches = [(titles_list[i], row[i]) for i in sorted_indices if row[i] > 0]  # Excluimos los titulos que no matchean\n",
    "    \n",
    "    matches_scores.append(matches)\n",
    "\n",
    "#Output\n",
    "flat_data = []\n",
    "for idx, title_matches in enumerate(matches_scores):\n",
    "    for match_title, score in title_matches:\n",
    "        flat_data.append({\n",
    "            'Title': titles_list[idx],\n",
    "            'Match Title': match_title,\n",
    "            'Score': score\n",
    "        })\n"
   ]
  },
  {
   "cell_type": "code",
   "execution_count": 31,
   "metadata": {},
   "outputs": [],
   "source": [
    "#Creamos el dataset y lo ordenamos nuevamente por las dudas\n",
    "result_df_2 = pd.DataFrame(flat_data)\n",
    "result_df_2.sort_values(by=['Score'], ascending=[False], inplace=True) "
   ]
  },
  {
   "cell_type": "markdown",
   "metadata": {},
   "source": [
    "Output"
   ]
  },
  {
   "cell_type": "code",
   "execution_count": 32,
   "metadata": {},
   "outputs": [
    {
     "data": {
      "text/html": [
       "<div>\n",
       "<style scoped>\n",
       "    .dataframe tbody tr th:only-of-type {\n",
       "        vertical-align: middle;\n",
       "    }\n",
       "\n",
       "    .dataframe tbody tr th {\n",
       "        vertical-align: top;\n",
       "    }\n",
       "\n",
       "    .dataframe thead th {\n",
       "        text-align: right;\n",
       "    }\n",
       "</style>\n",
       "<table border=\"1\" class=\"dataframe\">\n",
       "  <thead>\n",
       "    <tr style=\"text-align: right;\">\n",
       "      <th></th>\n",
       "      <th>Title</th>\n",
       "      <th>Match Title</th>\n",
       "      <th>Score</th>\n",
       "    </tr>\n",
       "  </thead>\n",
       "  <tbody>\n",
       "    <tr>\n",
       "      <th>41344906</th>\n",
       "      <td>tenis feminino esportivo actvitta absorção imp...</td>\n",
       "      <td>tenis feminino esportivo actvitta original abs...</td>\n",
       "      <td>1.000000</td>\n",
       "    </tr>\n",
       "    <tr>\n",
       "      <th>22262638</th>\n",
       "      <td>sapatenis masculino polo lançamento 30 off</td>\n",
       "      <td>sapatenis masculino polo lançamento 30 off</td>\n",
       "      <td>1.000000</td>\n",
       "    </tr>\n",
       "    <tr>\n",
       "      <th>13771536</th>\n",
       "      <td>tenis feminino esportivo actvitta original abs...</td>\n",
       "      <td>tenis feminino esportivo actvitta absorção imp...</td>\n",
       "      <td>1.000000</td>\n",
       "    </tr>\n",
       "    <tr>\n",
       "      <th>42965333</th>\n",
       "      <td>sapatenis masculino polo lançamento 30 off</td>\n",
       "      <td>sapatenis masculino polo lançamento 30 off</td>\n",
       "      <td>1.000000</td>\n",
       "    </tr>\n",
       "    <tr>\n",
       "      <th>42872890</th>\n",
       "      <td>tênis activtta corrida masculino esportivo cat...</td>\n",
       "      <td>tênis esportivo activtta masculino cataluna co...</td>\n",
       "      <td>1.000000</td>\n",
       "    </tr>\n",
       "    <tr>\n",
       "      <th>...</th>\n",
       "      <td>...</td>\n",
       "      <td>...</td>\n",
       "      <td>...</td>\n",
       "    </tr>\n",
       "    <tr>\n",
       "      <th>33611902</th>\n",
       "      <td>tênis infantil pampili pom pom comfy tie dye 1...</td>\n",
       "      <td>tênis linha futsal branco preto marca ravia fu...</td>\n",
       "      <td>0.003012</td>\n",
       "    </tr>\n",
       "    <tr>\n",
       "      <th>15530422</th>\n",
       "      <td>tênis linha futsal branco preto marca ravia fu...</td>\n",
       "      <td>tênis reebok usado reebok legacy lifter menusa...</td>\n",
       "      <td>0.002995</td>\n",
       "    </tr>\n",
       "    <tr>\n",
       "      <th>26870959</th>\n",
       "      <td>tênis reebok usado reebok legacy lifter menusa...</td>\n",
       "      <td>tênis linha futsal branco preto marca ravia fu...</td>\n",
       "      <td>0.002995</td>\n",
       "    </tr>\n",
       "    <tr>\n",
       "      <th>15530423</th>\n",
       "      <td>tênis linha futsal branco preto marca ravia fu...</td>\n",
       "      <td>tênis molekinha tec thal/lyc prot/cam met cam</td>\n",
       "      <td>0.002859</td>\n",
       "    </tr>\n",
       "    <tr>\n",
       "      <th>14976831</th>\n",
       "      <td>tênis molekinha tec thal/lyc prot/cam met cam</td>\n",
       "      <td>tênis linha futsal branco preto marca ravia fu...</td>\n",
       "      <td>0.002859</td>\n",
       "    </tr>\n",
       "  </tbody>\n",
       "</table>\n",
       "<p>45349698 rows × 3 columns</p>\n",
       "</div>"
      ],
      "text/plain": [
       "                                                      Title  \\\n",
       "41344906  tenis feminino esportivo actvitta absorção imp...   \n",
       "22262638         sapatenis masculino polo lançamento 30 off   \n",
       "13771536  tenis feminino esportivo actvitta original abs...   \n",
       "42965333         sapatenis masculino polo lançamento 30 off   \n",
       "42872890  tênis activtta corrida masculino esportivo cat...   \n",
       "...                                                     ...   \n",
       "33611902  tênis infantil pampili pom pom comfy tie dye 1...   \n",
       "15530422  tênis linha futsal branco preto marca ravia fu...   \n",
       "26870959  tênis reebok usado reebok legacy lifter menusa...   \n",
       "15530423  tênis linha futsal branco preto marca ravia fu...   \n",
       "14976831      tênis molekinha tec thal/lyc prot/cam met cam   \n",
       "\n",
       "                                                Match Title     Score  \n",
       "41344906  tenis feminino esportivo actvitta original abs...  1.000000  \n",
       "22262638         sapatenis masculino polo lançamento 30 off  1.000000  \n",
       "13771536  tenis feminino esportivo actvitta absorção imp...  1.000000  \n",
       "42965333         sapatenis masculino polo lançamento 30 off  1.000000  \n",
       "42872890  tênis esportivo activtta masculino cataluna co...  1.000000  \n",
       "...                                                     ...       ...  \n",
       "33611902  tênis linha futsal branco preto marca ravia fu...  0.003012  \n",
       "15530422  tênis reebok usado reebok legacy lifter menusa...  0.002995  \n",
       "26870959  tênis linha futsal branco preto marca ravia fu...  0.002995  \n",
       "15530423      tênis molekinha tec thal/lyc prot/cam met cam  0.002859  \n",
       "14976831  tênis linha futsal branco preto marca ravia fu...  0.002859  \n",
       "\n",
       "[45349698 rows x 3 columns]"
      ]
     },
     "execution_count": 32,
     "metadata": {},
     "output_type": "execute_result"
    }
   ],
   "source": [
    "result_df_2 #Aca obtenemos el dataset ordenado por titulo, mejor match, y el score asociado"
   ]
  },
  {
   "cell_type": "code",
   "execution_count": 33,
   "metadata": {},
   "outputs": [],
   "source": [
    "top_1000_rows = result_df_2.head(1000)"
   ]
  },
  {
   "cell_type": "code",
   "execution_count": 34,
   "metadata": {},
   "outputs": [],
   "source": [
    "top_1000_rows.to_csv('resultados_1000_caso_2.csv')"
   ]
  }
 ],
 "metadata": {
  "kernelspec": {
   "display_name": "Python 3",
   "language": "python",
   "name": "python3"
  },
  "language_info": {
   "codemirror_mode": {
    "name": "ipython",
    "version": 3
   },
   "file_extension": ".py",
   "mimetype": "text/x-python",
   "name": "python",
   "nbconvert_exporter": "python",
   "pygments_lexer": "ipython3",
   "version": "3.8.6"
  }
 },
 "nbformat": 4,
 "nbformat_minor": 2
}
